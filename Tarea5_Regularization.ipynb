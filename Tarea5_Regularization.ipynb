{
 "cells": [
  {
   "cell_type": "markdown",
   "metadata": {
    "deletable": true,
    "editable": true
   },
   "source": [
    "<img src=\"http://escolar.itam.mx/centro_tesis/img/logo-ITAM.png\" style=\"width:250px\">\n",
    "# Machine Learning\n",
    "\n",
    "## Regularización\n",
    "Tarea 5 : Gustavo Augusto Mondragón Sánchez : 136894\n",
    "\n",
    "### Introducción:\n",
    "#### Regularización\n",
    "En modelos estadísticos, la regularización se refiere al proceso de introducir información adicional para solucionar un problema mal definido o para impedir el sobreentrenamiento. Es decir, ayuda a evitar que nuestro modelo se aprenda de memoria los datos.\n",
    "\n",
    "Pero ¿cómo surge un problema de sobreentrenamiento? intentemos con un ejemplo:\n",
    "\n",
    "Cuando uno trata de modelar un problema como, por ejemplo, predecir el número de glóbulos rojos en la sangre, lo primero que intentará será usar un modelo de regresión lineal, con el peso como variable independiente y el número de glóbulos rojos como la dependiente. Lo más probable es que el modelo falle ya que es demasiado simple.\n",
    "Puedes oensar entonces, \"tengo otras variables que pueden ayudar como la edad, enfermedades, tipo de sangre, estatura\".\n",
    "Con esta adición de variables e información el modelo se volverá más complejo. En el modelo mides la exactitud con respecto a una métrica $L(X,y)$ donde $X$ es la matriz por tupla de información y $Y$ es el vector de observaciones (en nuestro caso, el número de glóbulos rojos).\n",
    "Parece que el modelo es bueno... pero no tanto... Así que decides agregar más información como domicilio, nacionalidad, escolaridad, comida favorita, hora a la que despierta, nombre de sus padres, etc.\n",
    "El modelo ahora se comporta extraordinariamente bien... pero probablemente está sobreentrenado. Lo más seguro es que tenga poco poder de predicción para información nueva y poca capacidad de generalización. Se aprendió toda la información, incluso el ruido de fondo.\n",
    "\n",
    "Una de las formas de atacar este problema es con las técnicas de regularización.\n",
    "\n",
    "Puedes penalizar la métrica de ajuste agregando un múltiplo de $L_1(LASSO)$ O una norma de $L_2(Ridge)$ de los pesos del vector w (parámetros de la regresión). Se consigue la siguiente ecuación:\n",
    "$$L(X,y) + λN(w) ~~~~~ (N es L1, L2 o cualquier otra norma indistintamente)$$ \n",
    "\n",
    "Esto te permitirá evitar el sobreenetrenamiento. \n",
    "Para la siguiente etapa de encontrar el $λ$ adecuado se puede hacer cross-validation al variar $λ$ con tu set de validación y buscar el que minimice la métrica asignada.\n",
    "\n",
    "\n",
    "\n",
    "\n",
    "\n",
    "[Wikipedia, Ridge](https://en.wikipedia.org/wiki/Tikhonov_regularization)\n",
    "[Wikipedia, Regularización](https://en.wikipedia.org/wiki/Regularization_(mathematics))\n",
    "[Quora](https://www.quora.com/What-is-regularization-in-machine-learning)\n",
    "\n",
    "### Objetivos:\n",
    "* Implementar el algoritmo iterativo incremental regularizado para calcular una regresión lineal.\n",
    "* Escalar los datos usando StandardScaler\n",
    "* Comparar el error y los pesos resultantes para una lambda=0 y una lambda=0.001\n",
    "* Programar el minibatch para regresión lineal iterativa."
   ]
  },
  {
   "cell_type": "code",
   "execution_count": 2,
   "metadata": {
    "collapsed": false,
    "deletable": true,
    "editable": true
   },
   "outputs": [
    {
     "name": "stderr",
     "output_type": "stream",
     "text": [
      "C:\\Users\\dwh\\Desktop\\env1\\pythonEnv1\\Lib\\site-packages\\sklearn\\cross_validation.py:41: DeprecationWarning: This module was deprecated in version 0.18 in favor of the model_selection module into which all the refactored classes and functions are moved. Also note that the interface of the new CV iterators are different from that of this module. This module will be removed in 0.20.\n",
      "  \"This module will be removed in 0.20.\", DeprecationWarning)\n"
     ]
    }
   ],
   "source": [
    "#Librerías necesarias:\n",
    "import matplotlib.pyplot as plt\n",
    "import numpy as np\n",
    "import pandas as pd\n",
    "from sklearn import datasets, linear_model, preprocessing\n",
    "from sklearn.cross_validation import train_test_split\n",
    "from sklearn.metrics import mean_squared_error, r2_score"
   ]
  },
  {
   "cell_type": "markdown",
   "metadata": {
    "deletable": true,
    "editable": true
   },
   "source": [
    "### Estructura de los datos: \n",
    "\n",
    "* Una variable dependiente continua Y\n",
    "* 36 variables independientes continuas $X_i, ~~~ i=1,...,36$"
   ]
  },
  {
   "cell_type": "code",
   "execution_count": 3,
   "metadata": {
    "collapsed": false,
    "deletable": true,
    "editable": true
   },
   "outputs": [
    {
     "data": {
      "text/html": [
       "<div>\n",
       "<table border=\"1\" class=\"dataframe\">\n",
       "  <thead>\n",
       "    <tr style=\"text-align: right;\">\n",
       "      <th></th>\n",
       "      <th>X</th>\n",
       "      <th>X2</th>\n",
       "      <th>X3</th>\n",
       "      <th>X4</th>\n",
       "      <th>X5</th>\n",
       "      <th>y</th>\n",
       "    </tr>\n",
       "  </thead>\n",
       "  <tbody>\n",
       "    <tr>\n",
       "      <th>count</th>\n",
       "      <td>1029.000000</td>\n",
       "      <td>1029.000000</td>\n",
       "      <td>1029.000000</td>\n",
       "      <td>1029.000000</td>\n",
       "      <td>1029.000000</td>\n",
       "      <td>1029.000000</td>\n",
       "    </tr>\n",
       "    <tr>\n",
       "      <th>mean</th>\n",
       "      <td>48.052380</td>\n",
       "      <td>3113.669342</td>\n",
       "      <td>1.542203</td>\n",
       "      <td>-0.011250</td>\n",
       "      <td>628.000000</td>\n",
       "      <td>3113.490528</td>\n",
       "    </tr>\n",
       "    <tr>\n",
       "      <th>std</th>\n",
       "      <td>28.379936</td>\n",
       "      <td>2891.956247</td>\n",
       "      <td>0.452374</td>\n",
       "      <td>0.717016</td>\n",
       "      <td>297.191016</td>\n",
       "      <td>2892.963581</td>\n",
       "    </tr>\n",
       "    <tr>\n",
       "      <th>min</th>\n",
       "      <td>0.006314</td>\n",
       "      <td>0.000040</td>\n",
       "      <td>-2.199666</td>\n",
       "      <td>-0.999993</td>\n",
       "      <td>114.000000</td>\n",
       "      <td>0.000040</td>\n",
       "    </tr>\n",
       "    <tr>\n",
       "      <th>25%</th>\n",
       "      <td>23.174764</td>\n",
       "      <td>537.069692</td>\n",
       "      <td>1.365015</td>\n",
       "      <td>-0.731530</td>\n",
       "      <td>371.000000</td>\n",
       "      <td>522.757565</td>\n",
       "    </tr>\n",
       "    <tr>\n",
       "      <th>50%</th>\n",
       "      <td>47.655827</td>\n",
       "      <td>2271.077831</td>\n",
       "      <td>1.678116</td>\n",
       "      <td>-0.046938</td>\n",
       "      <td>628.000000</td>\n",
       "      <td>2262.728789</td>\n",
       "    </tr>\n",
       "    <tr>\n",
       "      <th>75%</th>\n",
       "      <td>71.372550</td>\n",
       "      <td>5094.040864</td>\n",
       "      <td>1.853531</td>\n",
       "      <td>0.732296</td>\n",
       "      <td>885.000000</td>\n",
       "      <td>5093.260718</td>\n",
       "    </tr>\n",
       "    <tr>\n",
       "      <th>max</th>\n",
       "      <td>99.873062</td>\n",
       "      <td>9974.628611</td>\n",
       "      <td>1.999448</td>\n",
       "      <td>1.000000</td>\n",
       "      <td>1142.000000</td>\n",
       "      <td>10028.067820</td>\n",
       "    </tr>\n",
       "  </tbody>\n",
       "</table>\n",
       "</div>"
      ],
      "text/plain": [
       "                 X           X2           X3           X4           X5  \\\n",
       "count  1029.000000  1029.000000  1029.000000  1029.000000  1029.000000   \n",
       "mean     48.052380  3113.669342     1.542203    -0.011250   628.000000   \n",
       "std      28.379936  2891.956247     0.452374     0.717016   297.191016   \n",
       "min       0.006314     0.000040    -2.199666    -0.999993   114.000000   \n",
       "25%      23.174764   537.069692     1.365015    -0.731530   371.000000   \n",
       "50%      47.655827  2271.077831     1.678116    -0.046938   628.000000   \n",
       "75%      71.372550  5094.040864     1.853531     0.732296   885.000000   \n",
       "max      99.873062  9974.628611     1.999448     1.000000  1142.000000   \n",
       "\n",
       "                  y  \n",
       "count   1029.000000  \n",
       "mean    3113.490528  \n",
       "std     2892.963581  \n",
       "min        0.000040  \n",
       "25%      522.757565  \n",
       "50%     2262.728789  \n",
       "75%     5093.260718  \n",
       "max    10028.067820  "
      ]
     },
     "execution_count": 3,
     "metadata": {},
     "output_type": "execute_result"
    }
   ],
   "source": [
    "#Cargar los datos desde repositorio online:\n",
    "dataNl = pd.read_csv('https://raw.githubusercontent.com/ClaseML-2017/MaterialyTareas/master/datos/regLinPoli.csv',delimiter=',') # Leer el archivo\n",
    "#Descripción previa de los datos:\n",
    "dataNl.describe()"
   ]
  },
  {
   "cell_type": "markdown",
   "metadata": {
    "deletable": true,
    "editable": true
   },
   "source": [
    "### División del conjunto de datos en entrenamiento y validación."
   ]
  },
  {
   "cell_type": "code",
   "execution_count": 4,
   "metadata": {
    "collapsed": true,
    "deletable": true,
    "editable": true
   },
   "outputs": [],
   "source": [
    "np.random.seed(12345)     #Para revisiones de los resultados futuras\n",
    "\n",
    "#División de los datos \n",
    "trainx, testx, trainy, testy = train_test_split(dataNl[dataNl.columns[0:-1]],dataNl[dataNl.columns[-1]], train_size=0.75)\n",
    "\n",
    "#Datos estandarizados\n",
    "scaler = preprocessing.StandardScaler().fit(trainx)\n",
    "trainxE=scaler.transform(trainx)\n",
    "testxE=scaler.transform(testx)"
   ]
  },
  {
   "cell_type": "markdown",
   "metadata": {
    "deletable": true,
    "editable": true
   },
   "source": [
    "### Creación del modelo LMS REGULARIZADO:"
   ]
  },
  {
   "cell_type": "code",
   "execution_count": 5,
   "metadata": {
    "collapsed": true,
    "deletable": true,
    "editable": true
   },
   "outputs": [],
   "source": [
    "def LMS(x,y,eta,lam):\n",
    "    x = np.insert(np.array(x), 0, 1, axis=1)\n",
    "    y = np.array(y)\n",
    "    nr = x.shape[0]\n",
    "    nc = x.shape[1]\n",
    "    w = np.random.random((1,nc))\n",
    "    for i in range(0,nr):\n",
    "        e = (y[i] - np.dot(x[i],w.T))\n",
    "        w = w + eta*e*x[i]-lam*w\n",
    "    print 'Coeficientes: \\n',w.T\n",
    "    return w\n",
    "\n",
    "\n",
    "def testLMS(x,y,w,indiceG=1):\n",
    "    x = np.insert(np.array(x), 0, 1, axis=1)\n",
    "    nr = x.shape[0]\n",
    "    y = np.array(y)\n",
    "    pred = np.dot(x,w.T)\n",
    "    plt.scatter(x[:,indiceG],y, color='black')\n",
    "    plt.scatter(x[:,indiceG],pred)\n",
    "    ecm = (1.0/len(y))*np.abs(np.sum(np.array(y)-pred))\n",
    "    print '\\n Error medio: %f' % ecm\n",
    "    plt.title('Regresion lineal usando parametros de W')\n",
    "    print '\\n Ordenada: %f, Pendiente: %f' % (w[0,0], w[0,1])\n",
    "    if indiceG>0: \n",
    "        plt.show()\n",
    "    return ecm\n"
   ]
  },
  {
   "cell_type": "markdown",
   "metadata": {
    "deletable": true,
    "editable": true
   },
   "source": [
    "### Validación del modelo eta = 0.01, lambda = 0"
   ]
  },
  {
   "cell_type": "code",
   "execution_count": 6,
   "metadata": {
    "collapsed": false,
    "deletable": true,
    "editable": true,
    "scrolled": true
   },
   "outputs": [
    {
     "name": "stdout",
     "output_type": "stream",
     "text": [
      "Coeficientes: \n",
      "[[ 3021.64353848]\n",
      " [ 1075.11551463]\n",
      " [ 1878.63891548]\n",
      " [ -184.17660578]\n",
      " [  -14.18682355]\n",
      " [   16.05060381]]\n",
      "\n",
      " Error medio: 8036.229365\n",
      "\n",
      " Ordenada: 3021.643538, Pendiente: 1075.115515\n"
     ]
    },
    {
     "data": {
      "text/plain": [
       "8036.2293651242117"
      ]
     },
     "execution_count": 6,
     "metadata": {},
     "output_type": "execute_result"
    }
   ],
   "source": [
    "w = LMS(trainxE,trainy,.01,0)\n",
    "testLMS(testxE,testy,w,-1)"
   ]
  },
  {
   "cell_type": "markdown",
   "metadata": {
    "deletable": true,
    "editable": true
   },
   "source": [
    "### Validación del modelo eta = 0.01, lambda = 0.01"
   ]
  },
  {
   "cell_type": "code",
   "execution_count": 7,
   "metadata": {
    "collapsed": false,
    "deletable": true,
    "editable": true
   },
   "outputs": [
    {
     "name": "stdout",
     "output_type": "stream",
     "text": [
      "Coeficientes: \n",
      "[[  2.71504872e+03]\n",
      " [  1.01045004e+03]\n",
      " [  1.57890169e+03]\n",
      " [ -6.88112661e+01]\n",
      " [ -3.59619158e+01]\n",
      " [ -8.20252493e-01]]\n",
      "\n",
      " Error medio: 92626.680031\n",
      "\n",
      " Ordenada: 2715.048720, Pendiente: 1010.450040\n"
     ]
    },
    {
     "data": {
      "text/plain": [
       "92626.680030977252"
      ]
     },
     "execution_count": 7,
     "metadata": {},
     "output_type": "execute_result"
    }
   ],
   "source": [
    "w = LMS(trainxE,trainy,.01,0.001)\n",
    "testLMS(testxE,testy,w,-1)"
   ]
  },
  {
   "cell_type": "markdown",
   "metadata": {
    "deletable": true,
    "editable": true
   },
   "source": [
    "## Con lambda más grande los coeficientes de algunas variables independientes se hace cada vez más cercano a cero."
   ]
  },
  {
   "cell_type": "code",
   "execution_count": null,
   "metadata": {
    "collapsed": true,
    "deletable": true,
    "editable": true
   },
   "outputs": [],
   "source": []
  }
 ],
 "metadata": {
  "anaconda-cloud": {},
  "kernelspec": {
   "display_name": "Python 2",
   "language": "python",
   "name": "python2"
  },
  "language_info": {
   "codemirror_mode": {
    "name": "ipython",
    "version": 2
   },
   "file_extension": ".py",
   "mimetype": "text/x-python",
   "name": "python",
   "nbconvert_exporter": "python",
   "pygments_lexer": "ipython2",
   "version": "2.7.13"
  }
 },
 "nbformat": 4,
 "nbformat_minor": 2
}
