{
 "cells": [
  {
   "cell_type": "markdown",
   "metadata": {},
   "source": [
    "<img src=\"http://escolar.itam.mx/centro_tesis/img/logo-ITAM.png\" style=\"width:250px\">\n",
    "\n",
    "# Machine Learning\n",
    "\n",
    "## Monty Hall problem\n",
    "Tarea 1 : Gustavo Augusto Mondragón Sánchez : 136894\n",
    "\n",
    "### Introducción\n",
    "\n",
    "En 1963 comenzo un programa en la televisión estadounidense llamado \"Lets's Make a Deal\", cuya dinámica consistía en elegir una de tres puertas en el estudio y el concursante obtenía lo que estaba detrás de la puerta que había elegido. \n",
    "Era conocido que de las tres puertas sólo una contenía un gran premio (un auto por ejemplo), mientras que las otras dos tenían dentro un premio-broma como una cabra o un carbón. \n",
    "Los productores Stefan Hatos y Monty Hall decidieron agregar un factor de sorpresa al público, y al concursante, abriendo una puerta durante el concurso. La dinámica para el concursante es la siguiente:\n",
    "\n",
    "1. Elegir una de las tres puertas cerradas.\n",
    "2. Monty abre una de las dos puertas restantes que no contenía el gran premio.\n",
    "3. Monty pregunta al concursante si desea cambiar la puerta que eligió al principio por la restante que está cerrada.\n",
    "\n",
    "Si analizamos el problema de encontrar la puerta ganadora desde el punto de vista del cálculo de probabilidades... ¿Es conveniente cambiar la puerta o permanecer con la que se eligió al principio? ¿La probabilidad de un tercio por cada puerta permanece todo el tiempo o cambia?\n",
    "\n",
    "Se ha demostrado matemáticamente que es más conveniente cambiar la puerta ya que la probabilidad de que esté en la segunda puerta es de 66.6...%. La formula que expresa el comportamiento del experimento es $$P[nuevaPuertaGanadora] = 100*{n+l \\over t} \\%$$ \n",
    "Donde:\n",
    "* n es número de puertas elegidas al principio.\n",
    "* l es el número de puertas en las que se ha enseñado que dentro no hay nada.\n",
    "* t es el número total de puertas. \n",
    "\n",
    "[Wikipedia](https://es.wikipedia.org/wiki/Problema_de_Monty_Hall#Ejemplo_con_tres_puertas)\n",
    "\n",
    "Sin embargo, ¿qué tanto se ajusta la probabilidad a la realidad?.\n",
    "\n",
    "#### Hagamos una simulación:"
   ]
  },
  {
   "cell_type": "code",
   "execution_count": 1,
   "metadata": {},
   "outputs": [
    {
     "name": "stdout",
     "output_type": "stream",
     "text": [
      "La probabilidad ganar si te quedas con la nueva puerta es: 66.711000%\n"
     ]
    }
   ],
   "source": [
    "import random as rand\n",
    "\n",
    "nexp = 100000   #Repeticiones del experimento\n",
    "nExitos = 0\n",
    "x = ['Auto','Cabra','Cabra'] #Opciones detrás de la puerta\n",
    "\n",
    "for i in range(0,nexp):\n",
    "    n = rand.randint(0,2)\n",
    "    n2 = (n+1)%3\n",
    "    n3 = (n2+1)%3\n",
    "    elige = x[n]\n",
    "    if(x[n2]=='Auto'):\n",
    "        abre = x[n3]\n",
    "        noAbre = x[n2]\n",
    "    else:\n",
    "        abre = x[n2]\n",
    "        noAbre = x[n3]\n",
    "\n",
    "    if(noAbre=='Auto'):\n",
    "        nExitos = nExitos + 1\n",
    "        \n",
    "#Probabilidad de ganar si cambiaste la opción:\n",
    "p = nExitos*100.0/nexp\n",
    "\n",
    "print \"La probabilidad ganar si te quedas con la nueva puerta es: %f%%\" % (p,)"
   ]
  }
 ],
 "metadata": {
  "kernelspec": {
   "display_name": "Python 2",
   "language": "python",
   "name": "python2"
  },
  "language_info": {
   "codemirror_mode": {
    "name": "ipython",
    "version": 2
   },
   "file_extension": ".py",
   "mimetype": "text/x-python",
   "name": "python",
   "nbconvert_exporter": "python",
   "pygments_lexer": "ipython2",
   "version": "2.7.14"
  }
 },
 "nbformat": 4,
 "nbformat_minor": 2
}
