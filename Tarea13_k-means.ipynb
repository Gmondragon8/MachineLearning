{
 "cells": [
  {
   "cell_type": "markdown",
   "metadata": {
    "collapsed": true
   },
   "source": [
    "<img src=\"http://escolar.itam.mx/centro_tesis/img/logo-ITAM.png\" style=\"width:250px\">\n",
    "# Machine Learning\n",
    "\n",
    "## K-means\n",
    "Tarea 13 : Gustavo Augusto Mondragón Sánchez : 136894"
   ]
  },
  {
   "cell_type": "code",
   "execution_count": 1,
   "metadata": {},
   "outputs": [],
   "source": [
    "import numpy as np\n",
    "import pandas as pd\n",
    "import matplotlib.pyplot as plt\n",
    "from sklearn import preprocessing\n",
    "from sklearn.ensemble import RandomForestClassifier\n",
    "from sklearn.neural_network import MLPClassifier\n",
    "from sklearn.cluster import KMeans\n",
    "from sklearn import metrics\n",
    "from sklearn.model_selection import train_test_split"
   ]
  },
  {
   "cell_type": "markdown",
   "metadata": {},
   "source": [
    "#### División de los datos"
   ]
  },
  {
   "cell_type": "code",
   "execution_count": 2,
   "metadata": {},
   "outputs": [
    {
     "name": "stdout",
     "output_type": "stream",
     "text": [
      "<class 'pandas.core.frame.DataFrame'>\n",
      "RangeIndex: 4177 entries, 0 to 4176\n",
      "Data columns (total 9 columns):\n",
      "Sex               4177 non-null object\n",
      "Length            4177 non-null float64\n",
      "Diameter          4177 non-null float64\n",
      "Height            4177 non-null float64\n",
      "Whole_weight      4177 non-null float64\n",
      "Shucked_weight    4177 non-null float64\n",
      "Viscera_weight    4177 non-null float64\n",
      "Shell_weight      4177 non-null float64\n",
      "Rings             4177 non-null int64\n",
      "dtypes: float64(7), int64(1), object(1)\n",
      "memory usage: 293.8+ KB\n"
     ]
    },
    {
     "data": {
      "text/html": [
       "<div>\n",
       "<table border=\"1\" class=\"dataframe\">\n",
       "  <thead>\n",
       "    <tr style=\"text-align: right;\">\n",
       "      <th></th>\n",
       "      <th>Length</th>\n",
       "      <th>Diameter</th>\n",
       "      <th>Height</th>\n",
       "      <th>Whole_weight</th>\n",
       "      <th>Shucked_weight</th>\n",
       "      <th>Viscera_weight</th>\n",
       "      <th>Shell_weight</th>\n",
       "      <th>Rings</th>\n",
       "    </tr>\n",
       "  </thead>\n",
       "  <tbody>\n",
       "    <tr>\n",
       "      <th>count</th>\n",
       "      <td>4177.000000</td>\n",
       "      <td>4177.000000</td>\n",
       "      <td>4177.000000</td>\n",
       "      <td>4177.000000</td>\n",
       "      <td>4177.000000</td>\n",
       "      <td>4177.000000</td>\n",
       "      <td>4177.000000</td>\n",
       "      <td>4177.000000</td>\n",
       "    </tr>\n",
       "    <tr>\n",
       "      <th>mean</th>\n",
       "      <td>0.523992</td>\n",
       "      <td>0.407881</td>\n",
       "      <td>0.139516</td>\n",
       "      <td>0.828742</td>\n",
       "      <td>0.359367</td>\n",
       "      <td>0.180594</td>\n",
       "      <td>0.238831</td>\n",
       "      <td>9.933684</td>\n",
       "    </tr>\n",
       "    <tr>\n",
       "      <th>std</th>\n",
       "      <td>0.120093</td>\n",
       "      <td>0.099240</td>\n",
       "      <td>0.041827</td>\n",
       "      <td>0.490389</td>\n",
       "      <td>0.221963</td>\n",
       "      <td>0.109614</td>\n",
       "      <td>0.139203</td>\n",
       "      <td>3.224169</td>\n",
       "    </tr>\n",
       "    <tr>\n",
       "      <th>min</th>\n",
       "      <td>0.075000</td>\n",
       "      <td>0.055000</td>\n",
       "      <td>0.000000</td>\n",
       "      <td>0.002000</td>\n",
       "      <td>0.001000</td>\n",
       "      <td>0.000500</td>\n",
       "      <td>0.001500</td>\n",
       "      <td>1.000000</td>\n",
       "    </tr>\n",
       "    <tr>\n",
       "      <th>25%</th>\n",
       "      <td>0.450000</td>\n",
       "      <td>0.350000</td>\n",
       "      <td>0.115000</td>\n",
       "      <td>0.441500</td>\n",
       "      <td>0.186000</td>\n",
       "      <td>0.093500</td>\n",
       "      <td>0.130000</td>\n",
       "      <td>8.000000</td>\n",
       "    </tr>\n",
       "    <tr>\n",
       "      <th>50%</th>\n",
       "      <td>0.545000</td>\n",
       "      <td>0.425000</td>\n",
       "      <td>0.140000</td>\n",
       "      <td>0.799500</td>\n",
       "      <td>0.336000</td>\n",
       "      <td>0.171000</td>\n",
       "      <td>0.234000</td>\n",
       "      <td>9.000000</td>\n",
       "    </tr>\n",
       "    <tr>\n",
       "      <th>75%</th>\n",
       "      <td>0.615000</td>\n",
       "      <td>0.480000</td>\n",
       "      <td>0.165000</td>\n",
       "      <td>1.153000</td>\n",
       "      <td>0.502000</td>\n",
       "      <td>0.253000</td>\n",
       "      <td>0.329000</td>\n",
       "      <td>11.000000</td>\n",
       "    </tr>\n",
       "    <tr>\n",
       "      <th>max</th>\n",
       "      <td>0.815000</td>\n",
       "      <td>0.650000</td>\n",
       "      <td>1.130000</td>\n",
       "      <td>2.825500</td>\n",
       "      <td>1.488000</td>\n",
       "      <td>0.760000</td>\n",
       "      <td>1.005000</td>\n",
       "      <td>29.000000</td>\n",
       "    </tr>\n",
       "  </tbody>\n",
       "</table>\n",
       "</div>"
      ],
      "text/plain": [
       "            Length     Diameter       Height  Whole_weight  Shucked_weight  \\\n",
       "count  4177.000000  4177.000000  4177.000000   4177.000000     4177.000000   \n",
       "mean      0.523992     0.407881     0.139516      0.828742        0.359367   \n",
       "std       0.120093     0.099240     0.041827      0.490389        0.221963   \n",
       "min       0.075000     0.055000     0.000000      0.002000        0.001000   \n",
       "25%       0.450000     0.350000     0.115000      0.441500        0.186000   \n",
       "50%       0.545000     0.425000     0.140000      0.799500        0.336000   \n",
       "75%       0.615000     0.480000     0.165000      1.153000        0.502000   \n",
       "max       0.815000     0.650000     1.130000      2.825500        1.488000   \n",
       "\n",
       "       Viscera_weight  Shell_weight        Rings  \n",
       "count     4177.000000   4177.000000  4177.000000  \n",
       "mean         0.180594      0.238831     9.933684  \n",
       "std          0.109614      0.139203     3.224169  \n",
       "min          0.000500      0.001500     1.000000  \n",
       "25%          0.093500      0.130000     8.000000  \n",
       "50%          0.171000      0.234000     9.000000  \n",
       "75%          0.253000      0.329000    11.000000  \n",
       "max          0.760000      1.005000    29.000000  "
      ]
     },
     "execution_count": 2,
     "metadata": {},
     "output_type": "execute_result"
    }
   ],
   "source": [
    "#Cargar los datos desde repositorio online:\n",
    "da = pd.read_csv('http://archive.ics.uci.edu/ml/machine-learning-databases/abalone/abalone.data',delimiter=',',header=None)\n",
    "da.columns = [\"Sex\",\"Length\",\"Diameter\",\"Height\",\"Whole_weight\",\n",
    "                  \"Shucked_weight\",\"Viscera_weight\",\"Shell_weight\",\"Rings\"]\n",
    "da.info()\n",
    "da.describe()"
   ]
  },
  {
   "cell_type": "code",
   "execution_count": 3,
   "metadata": {},
   "outputs": [],
   "source": [
    "da.Sex = da.Sex.astype('category').cat.codes\n",
    "\n",
    "Y = da[\"Rings\"]\n",
    "X = da.drop('Rings', 1)\n",
    "\n",
    "#Split data\n",
    "xtrain, xtest, ytrain, ytest = train_test_split(X, Y, test_size=0.20, random_state=136894)\n",
    "\n",
    "#Normalize data:\n",
    "scaler = preprocessing.StandardScaler().fit(xtrain)\n",
    "xtrain=scaler.transform(xtrain)\n",
    "xtest=scaler.transform(xtest)"
   ]
  },
  {
   "cell_type": "markdown",
   "metadata": {},
   "source": [
    "#### Modelos ANTES de realizar K-means"
   ]
  },
  {
   "cell_type": "code",
   "execution_count": 4,
   "metadata": {},
   "outputs": [
    {
     "name": "stdout",
     "output_type": "stream",
     "text": [
      "Accuracy:\n",
      "Deep NN:       0.282297\n",
      "Random Forest: 0.239234\n"
     ]
    }
   ],
   "source": [
    "print(\"Accuracy:\")\n",
    "#Neural net\n",
    "hl_clf = MLPClassifier(solver='adam', alpha=1,random_state=10, hidden_layer_sizes=(9,9,9))\n",
    "hl_clf.fit(xtrain, ytrain.ravel())  \n",
    "hl_ypred = hl_clf.predict(xtest)\n",
    "hl_y_score = metrics.accuracy_score(ytest, hl_ypred)\n",
    "print(\"Deep NN:       %f\" % hl_y_score)\n",
    "\n",
    "#Random Forest:\n",
    "clfR = RandomForestClassifier()\n",
    "clfR = clfR.fit(xtrain, ytrain)\n",
    "y_predR = clfR.predict(xtest)\n",
    "rf_y_score = metrics.accuracy_score(ytest, y_predR)\n",
    "print(\"Random Forest: %f\" % rf_y_score)"
   ]
  },
  {
   "cell_type": "markdown",
   "metadata": {},
   "source": [
    "### K-means preprocesing"
   ]
  },
  {
   "cell_type": "code",
   "execution_count": 5,
   "metadata": {},
   "outputs": [],
   "source": [
    "c = 7\n",
    "km = KMeans(n_clusters=c, init=\"k-means++\", n_init=10, \n",
    "                      max_iter=300, tol=0.0001, precompute_distances=\"auto\", \n",
    "                      verbose=0, random_state=None, copy_x=True, \n",
    "                      n_jobs=1, algorithm=\"auto\").fit(X)\n",
    "label = km.labels_\n",
    "\n",
    "#Split data clusterizado\n",
    "msk = np.random.rand(len(da)) < 0.80\n",
    "train = da[msk]\n",
    "ytrain = train[\"Rings\"]\n",
    "xtrain = train.drop('Rings', 1)\n",
    "\n",
    "test = da[~msk]\n",
    "ytest = test[\"Rings\"]\n",
    "xtest = test.drop('Rings', 1)\n",
    "\n",
    "labeln = label[msk]\n",
    "labelt = label[~msk]\n",
    "\n",
    "#Normalize data:\n",
    "scaler = preprocessing.StandardScaler().fit(xtrain)\n",
    "xtrain=scaler.transform(xtrain)\n",
    "xtest=scaler.transform(xtest)"
   ]
  },
  {
   "cell_type": "markdown",
   "metadata": {},
   "source": [
    "#### Modelos DESPUÉS de realizar K-means"
   ]
  },
  {
   "cell_type": "code",
   "execution_count": 6,
   "metadata": {},
   "outputs": [
    {
     "name": "stdout",
     "output_type": "stream",
     "text": [
      "Predicción cluster: 0\n",
      "Deep NN:       0.165517\n",
      "Random Forest: 0.131034\n",
      "Predicción cluster: 1\n",
      "Deep NN:       0.419048\n",
      "Random Forest: 0.266667\n",
      "Predicción cluster: 2\n",
      "Deep NN:       0.237762\n",
      "Random Forest: 0.167832\n",
      "Predicción cluster: 3\n",
      "Deep NN:       0.257143\n",
      "Random Forest: 0.157143\n",
      "Predicción cluster: 4\n",
      "Deep NN:       0.385185\n",
      "Random Forest: 0.325926\n",
      "Predicción cluster: 5\n",
      "Deep NN:       0.242424\n",
      "Random Forest: 0.196970\n",
      "Predicción cluster: 6\n",
      "Deep NN:       0.283333\n",
      "Random Forest: 0.300000\n"
     ]
    }
   ],
   "source": [
    "import warnings\n",
    "warnings.filterwarnings('ignore')\n",
    "k_hl = np.zeros(c)\n",
    "k_rf = np.zeros(c)\n",
    "for i in range(c):\n",
    "    hl_clf = MLPClassifier(solver='adam', alpha=1,random_state=10, hidden_layer_sizes=(9,9,9))\n",
    "    clfR = RandomForestClassifier()\n",
    "    \n",
    "    X_tr = xtrain[labeln == i]\n",
    "    Y_tr = ytrain[labeln == i]\n",
    "    #Neural net\n",
    "    hl_clf.fit(X_tr, Y_tr.ravel()) \n",
    "    #Random Forest:\n",
    "    clfR = clfR.fit(xtrain, ytrain)\n",
    "    \n",
    "    #Resultados:\n",
    "    print(\"Predicción cluster:\",i)\n",
    "    hl_ypred = hl_clf.predict(xtest[labelt == i])\n",
    "    k_hl[i] = metrics.accuracy_score(ytest[labelt == i], hl_ypred)\n",
    "    print(\"Deep NN:       %f\" % k_hl[i])\n",
    "    y_predR = clfR.predict(xtest[labelt == i])\n",
    "    k_rf[i] = metrics.accuracy_score(ytest[labelt == i], y_predR)\n",
    "    print(\"Random Forest: %f\" % k_rf[i])"
   ]
  },
  {
   "cell_type": "markdown",
   "metadata": {},
   "source": [
    "### Comparativo:"
   ]
  },
  {
   "cell_type": "code",
   "execution_count": 7,
   "metadata": {},
   "outputs": [
    {
     "data": {
      "image/png": "[encoded data removed]",
      "text/plain": [
       "<matplotlib.figure.Figure at 0x7ff8170d5a20>"
      ]
     },
     "metadata": {},
     "output_type": "display_data"
    }
   ],
   "source": [
    "#rf_y_score hl_y_score\n",
    "plt.figure(figsize=(15,6))\n",
    "plt.subplot(1,2,1)\n",
    "plt.plot([0,c-1],[hl_y_score,hl_y_score])\n",
    "plt.plot(range(0,c),k_hl)\n",
    "pnn = np.mean(k_hl)\n",
    "plt.plot([0,c-1],[pnn,pnn])\n",
    "plt.legend([\"Antes K-means\",\"Después K-means\",\"Promedio después\"])\n",
    "plt.title(\"Red Neuronal\")\n",
    "plt.subplot(1,2,2)\n",
    "plt.plot([0,c-1],[rf_y_score,rf_y_score])\n",
    "plt.plot(range(0,c),k_rf)\n",
    "prf = np.mean(k_rf)\n",
    "plt.plot([0,c-1],[prf,prf])\n",
    "plt.legend([\"Antes K-means\",\"Después K-means\",\"Promedio después\"])\n",
    "plt.title(\"Random Forest\")\n",
    "\n",
    "plt.show()"
   ]
  },
  {
   "cell_type": "markdown",
   "metadata": {},
   "source": [
    "### Conclusiones:\n",
    "En general hay veces que el modelo especializado por clusters tiene mejores resultados y veces que no, depende del modelo si en promedio se generan mejores predicciones. Por ejemplo, en las gráficas se aprecia que para la red neuronal, en promedio, tiene un desempeño un poco mejor (con resultados casi el doble de buenos que sin kmeans para la clase 1) pero en random forest, en promedio hay peor desempeño. "
   ]
  },
  {
   "cell_type": "code",
   "execution_count": null,
   "metadata": {
    "collapsed": true
   },
   "outputs": [],
   "source": []
  }
 ],
 "metadata": {
  "kernelspec": {
   "display_name": "Python 3",
   "language": "python",
   "name": "python3"
  },
  "language_info": {
   "codemirror_mode": {
    "name": "ipython",
    "version": 3
   },
   "file_extension": ".py",
   "mimetype": "text/x-python",
   "name": "python",
   "nbconvert_exporter": "python",
   "pygments_lexer": "ipython3",
   "version": "3.5.4"
  }
 },
 "nbformat": 4,
 "nbformat_minor": 2
}
