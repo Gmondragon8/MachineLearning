{
 "cells": [
  {
   "cell_type": "markdown",
   "metadata": {
    "collapsed": true,
    "deletable": true,
    "editable": true
   },
   "source": [
    "<img src=\"http://escolar.itam.mx/centro_tesis/img/logo-ITAM.png\" style=\"width:250px\">\n",
    "# Machine Learning\n",
    "\n",
    "## Cross-validation\n",
    "Tarea 6 : Gustavo Augusto Mondragón Sánchez : 136894\n",
    "\n",
    "### Introducción:\n",
    "Cross-validation es una técnica de validación de modelo para evaluar cómo los resultados de un analisis estadístico pueden generalizarse a conjuntos de datos independientes. Es muy usado en modelos predictivos para estimar qué tan buen desempeño presenta en la práctica. \n",
    "La meta de cross-validation es proporcionar conjuntos de validación durante la fase de entrenamiento.\n",
    "\n",
    "#### Cross-validation k iteraciones:\n",
    "Los datos de entrenamiento se dividen en $k$ subconjuntos. Se hacen k iteraciones en las que se selecciona al subconjunto $k$ como conjunto de validación y los restantes se usan como conjunto de entrenamiento.\n",
    "Finalmente se realiza la media aritmética de los resultados de cada iteración para obtener un sólo resultado.\n",
    "<img src=\"https://upload.wikimedia.org/wikipedia/commons/f/f2/K-fold_cross_validation.jpg\">\n",
    "* Ventaja: Es preciso ya que evalúa el modelo varias veces con diferentes conjuntos de datos de entrenamiento y validación. \n",
    "* Desventaja: pesado computacionalmente.\n",
    "\n",
    "[Wikipedia, Cross-validation](https://es.wikipedia.org/wiki/Validaci%C3%B3n_cruzada)\n",
    "\n",
    "### Objetivos:\n",
    "* Implementar el algoritmo de Cross-validation para encontrar el valor apropiado de lambda para el modelo de regresión lineal iterativa."
   ]
  },
  {
   "cell_type": "code",
   "execution_count": 2,
   "metadata": {
    "collapsed": false,
    "deletable": true,
    "editable": true
   },
   "outputs": [],
   "source": [
    "import pandas as pd\n",
    "import numpy as np\n",
    "import csv\n",
    "import random as rnd\n",
    "from sklearn.model_selection import train_test_split\n",
    "import matplotlib.pyplot as plt\n",
    "from sklearn import preprocessing\n",
    "%matplotlib inline"
   ]
  },
  {
   "cell_type": "markdown",
   "metadata": {
    "deletable": true,
    "editable": true
   },
   "source": [
    "## Read file into dataframe"
   ]
  },
  {
   "cell_type": "code",
   "execution_count": 3,
   "metadata": {
    "collapsed": false,
    "deletable": true,
    "editable": true
   },
   "outputs": [],
   "source": [
    "df = pd.read_csv('https://raw.githubusercontent.com/ClaseML-2017/MaterialyTareas/master/datos/regLinPoli2.csv',delimiter=',') # Leer el archivo"
   ]
  },
  {
   "cell_type": "markdown",
   "metadata": {
    "deletable": true,
    "editable": true
   },
   "source": [
    "## Divide in train and test"
   ]
  },
  {
   "cell_type": "code",
   "execution_count": 4,
   "metadata": {
    "collapsed": false,
    "deletable": true,
    "editable": true
   },
   "outputs": [],
   "source": [
    "X_train, X_test, Y_train, Y_test = train_test_split(df[df.columns[0:-1]],df[[df.columns[-1]]], train_size=0.75)\n",
    "#print X_train.columns.values"
   ]
  },
  {
   "cell_type": "markdown",
   "metadata": {
    "deletable": true,
    "editable": true
   },
   "source": [
    "### I recommend that after manipulating data using pandas and before modelling to convert dataframes into arrays. This may avoid some headaches"
   ]
  },
  {
   "cell_type": "code",
   "execution_count": 5,
   "metadata": {
    "collapsed": false,
    "deletable": true,
    "editable": true
   },
   "outputs": [],
   "source": [
    "X_train=np.asarray(X_train)\n",
    "X_test=np.asarray(X_test)\n",
    "Y_train=np.asarray(Y_train)\n",
    "Y_test=np.asarray(Y_test)"
   ]
  },
  {
   "cell_type": "markdown",
   "metadata": {
    "deletable": true,
    "editable": true
   },
   "source": [
    "## Procedure for data standardizing"
   ]
  },
  {
   "cell_type": "code",
   "execution_count": 6,
   "metadata": {
    "collapsed": true,
    "deletable": true,
    "editable": true
   },
   "outputs": [],
   "source": [
    "# This procedure is useful for classroom examples. For a real implementation you have to have a separete method \n",
    "# for transforming the production data so you can transform it as you get it with the fitted scaler\n",
    "## The procedure returns a standardized copy of the input data\n",
    "def normalize(X_train,X_test,Y_train,Y_test,do=True):\n",
    "\n",
    "    scale_X=preprocessing.StandardScaler()\n",
    "    scale_y=preprocessing.StandardScaler()\n",
    "    \n",
    "    train_X=np.copy(X_train)\n",
    "    train_y=np.copy(Y_train)\n",
    "    test_X=np.copy(X_test)\n",
    "    test_y=np.copy(Y_test)\n",
    "    if do:\n",
    "        scale_X.fit(train_X)\n",
    "        scale_y.fit(train_y)\n",
    "        train_X=scale_X.transform(train_X)\n",
    "        train_y=scale_y.transform(train_y)\n",
    "        test_X=scale_X.transform(test_X)\n",
    "        test_y=scale_y.transform(test_y)\n",
    "    return train_X,test_X, train_y, test_y"
   ]
  },
  {
   "cell_type": "markdown",
   "metadata": {
    "deletable": true,
    "editable": true
   },
   "source": [
    "## Incremental regularized regression procedures"
   ]
  },
  {
   "cell_type": "code",
   "execution_count": 7,
   "metadata": {
    "collapsed": true,
    "deletable": true,
    "editable": true
   },
   "outputs": [],
   "source": [
    "## Transfer function\n",
    "def salida(w,X):\n",
    "    return X.dot(w[1:]) +w[0]\n"
   ]
  },
  {
   "cell_type": "code",
   "execution_count": 8,
   "metadata": {
    "collapsed": true,
    "deletable": true,
    "editable": true
   },
   "outputs": [],
   "source": [
    "## Training function\n",
    "def entrena(X,y,w,la=0.0,eta=0.01):\n",
    "    \n",
    "    for i in range(len(X)):\n",
    "        error=y[i]-salida(w,X[i])\n",
    "        w[0]=w[0]+eta*(error)\n",
    "        w[1:]=w[1:]+eta*(error*X[i])-la*w[1:]\n",
    "    return w\n"
   ]
  },
  {
   "cell_type": "markdown",
   "metadata": {
    "deletable": true,
    "editable": true
   },
   "source": [
    "## Error function"
   ]
  },
  {
   "cell_type": "code",
   "execution_count": 9,
   "metadata": {
    "collapsed": true,
    "deletable": true,
    "editable": true
   },
   "outputs": [],
   "source": [
    "def calcError(X,y,w,w0):\n",
    "    return np.mean((X.dot(w)+w0-y)**2)"
   ]
  },
  {
   "cell_type": "markdown",
   "metadata": {
    "deletable": true,
    "editable": true
   },
   "source": [
    "## Use"
   ]
  },
  {
   "cell_type": "code",
   "execution_count": 10,
   "metadata": {
    "collapsed": false,
    "deletable": true,
    "editable": true
   },
   "outputs": [],
   "source": [
    "train_X,test_X,train_y,test_y=normalize(X_train,X_test,Y_train,Y_test)"
   ]
  },
  {
   "cell_type": "markdown",
   "metadata": {
    "collapsed": true,
    "deletable": true,
    "editable": true
   },
   "source": [
    "### Cross-validation"
   ]
  },
  {
   "cell_type": "code",
   "execution_count": 15,
   "metadata": {
    "collapsed": false,
    "deletable": true,
    "editable": true
   },
   "outputs": [
    {
     "name": "stderr",
     "output_type": "stream",
     "text": [
      "C:\\Users\\gmondrags\\AppData\\Local\\Enthought\\Canopy\\edm\\envs\\User\\lib\\site-packages\\ipykernel\\__main__.py:7: RuntimeWarning: overflow encountered in subtract\n",
      "C:\\Users\\gmondrags\\AppData\\Local\\Enthought\\Canopy\\edm\\envs\\User\\lib\\site-packages\\ipykernel\\__main__.py:2: RuntimeWarning: overflow encountered in square\n",
      "  from ipykernel import kernelapp as app\n"
     ]
    },
    {
     "name": "stdout",
     "output_type": "stream",
     "text": [
      "\n",
      " Error algoritmo usual\n",
      "Error ENTRENAMIENTO: 0.5095769581\n",
      "Error VALIDACIÓN: 0.558701144912\n"
     ]
    }
   ],
   "source": [
    "lai = -.5\n",
    "iteraciones = 100\n",
    "errores = np.zeros((iteraciones,3))\n",
    "for c in range(0,iteraciones):\n",
    "    \n",
    "    div = 5\n",
    "    nt = len(X_train)\n",
    "    lenDiv = nt/5\n",
    "    err = np.zeros((div,2))\n",
    "    for i in range(0, div):\n",
    "        #Dividir los datos\n",
    "        testi = range(i*lenDiv, (i+1)*lenDiv)\n",
    "        traini = np.append(np.arange(0, i*lenDiv),np.arange((i+1)*lenDiv,nt))\n",
    "        trainx,testx,trainy,testy=normalize(X_train[traini],X_train[testi],Y_train[traini],Y_train[testi])\n",
    "        w=np.asarray([rnd.random() for k in range(1+len(trainx[0]))])\n",
    "        for j in range(100):\n",
    "            w=entrena(trainx,trainy,w,la=lai)\n",
    "\n",
    "        eE = calcError(trainx,trainy.flatten(),w[1:],w[0])\n",
    "        eV = calcError(testx,testy.flatten(),w[1:],w[0])\n",
    "        err[i] = [eE,eV]\n",
    "\n",
    "    #print \"\\n Error Cross-validation\"\n",
    "    eE = np.mean(err[:,0])\n",
    "    eV = np.mean(err[:,1])\n",
    "    #print \"Error promedio de ENTRENAMIENTO:\",eE\n",
    "    #print \"Error promedio de VALIDACIÓN:\",eV\n",
    "    eVN = np.mean(calcError(test_X,test_y.flatten(),w[1:],w[0]))\n",
    "    #print \"Error promedio SET DE VALIDACIÓN GENERAL:\",eVN\n",
    "    \n",
    "    errores[c] = [eE,eV,eVN]\n",
    "    lai = lai + .01\n",
    "\n",
    "\n",
    "print \"\\n Error algoritmo usual\"\n",
    "w=np.asarray([rnd.random() for i in range(1+len(train_X[0]))])\n",
    "for i in range(100):\n",
    "    w=entrena(train_X,train_y,w,la=0.00)\n",
    "    \n",
    "print \"Error ENTRENAMIENTO:\",calcError(train_X,train_y.flatten(),w[1:],w[0])\n",
    "print \"Error VALIDACIÓN:\",calcError(test_X,test_y.flatten(),w[1:],w[0])"
   ]
  },
  {
   "cell_type": "code",
   "execution_count": 18,
   "metadata": {
    "collapsed": false,
    "deletable": true,
    "editable": true
   },
   "outputs": [
    {
     "data": {
      "image/png": "[encoded data removed]",
      "text/plain": [
       "<matplotlib.figure.Figure at 0xd12be80>"
      ]
     },
     "metadata": {},
     "output_type": "display_data"
    }
   ],
   "source": [
    "plt.plot(np.linspace(-0.5,0.5, num=100), errores)\n",
    "plt.xlabel(\"Lambda\")\n",
    "plt.ylabel(\"Error medio\")\n",
    "plt.legend(['Error cvTrain', 'Error cvTest', 'Error Test'])\n",
    "plt.show()"
   ]
  },
  {
   "cell_type": "markdown",
   "metadata": {
    "deletable": true,
    "editable": true
   },
   "source": [
    "### Conclusión:  \n",
    "Se hace una evaluación de lambda desde -0.5 a 0.5 (como se aprecia el algoritmo sólo funciona correctamente con lambdas mayores o iguales a cero).\n",
    "Se puede apreciar como el error a partir de cero aumenta hasta que llega a un estado asintótico próximo al error 1.\n",
    "Con el algoritmo de Cross-validation se puede demostrar que lambda 0 es el mejor  valor de lambda para este modelo y estos datos. "
   ]
  }
 ],
 "metadata": {
  "anaconda-cloud": {},
  "kernelspec": {
   "display_name": "Python 2",
   "language": "python",
   "name": "python2"
  },
  "language_info": {
   "codemirror_mode": {
    "name": "ipython",
    "version": 2
   },
   "file_extension": ".py",
   "mimetype": "text/x-python",
   "name": "python",
   "nbconvert_exporter": "python",
   "pygments_lexer": "ipython2",
   "version": "2.7.13"
  }
 },
 "nbformat": 4,
 "nbformat_minor": 2
}
